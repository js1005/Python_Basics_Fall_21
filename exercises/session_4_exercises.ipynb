{
 "cells": [
  {
   "cell_type": "markdown",
   "id": "returning-charm",
   "metadata": {},
   "source": [
    "# Exercises Session 4\n",
    "In the exercices, we will keep working with the Titanic Dataframe. So, make sure to load the data in a first step (and don't forget to load the pandas and numpy modules as well). I will post solutions shortly after expiration of the deadline (15 October, Friday).\n",
    "\n",
    "1. Verify that the variable 'PassengerId' is of type 'int64'. Then change it to string (or object) datatype. Why does this make sense?\n",
    "2. Print the first 7 rows of the dataframe.\n",
    "3. Print the last 3 values of the 'Embarked' column.\n",
    "4. Add a column 'upper_class' that takes the value 1 if a passenger travelled 1st class and 0 otherwise.\n",
    "5. Add a colum 'family_size' that captures the number of parents/children/siblings/spouses that a passenger had onboard."
   ]
  }
 ],
 "metadata": {
  "kernelspec": {
   "display_name": "Python 3",
   "language": "python",
   "name": "python3"
  },
  "language_info": {
   "codemirror_mode": {
    "name": "ipython",
    "version": 3
   },
   "file_extension": ".py",
   "mimetype": "text/x-python",
   "name": "python",
   "nbconvert_exporter": "python",
   "pygments_lexer": "ipython3",
   "version": "3.7.4"
  }
 },
 "nbformat": 4,
 "nbformat_minor": 5
}
