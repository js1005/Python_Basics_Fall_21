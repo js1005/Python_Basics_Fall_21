{
 "cells": [
  {
   "cell_type": "markdown",
   "id": "passing-substitute",
   "metadata": {},
   "source": [
    "# Exercises Session 5\n",
    "\n",
    "Again, we will work with the Titanic Dataframe. So, make sure to load the data in a first step (and don't forget to load the pandas and numpy modules as well). I will post solutions shortly after expiration of the deadline.\n",
    "\n",
    "1. Consider the relationship between 'upper_class' and 'Survived'. Why may the two be related? Compare survival chances among those who booked upper class and those who booked lower class.\n",
    "2. How many passengers who carried the name 'Charles' were on the Titanic? What was their average age? How many of them survived? You will need to google a bit to answer this question.\n",
    "3. Consider the variable 'Embarked', which denotes the port of embarcation. Compute how many passengers embarked at each port. Then visualize the distribution of passengers across the ports with the help of a distribution plot.\n",
    "4. Consider the relationship between 'Pclass' and 'Fare'. What is the average fare for each 'Pclass'? What is the standard deviation within each 'Pclass'? Visualize the relationship between 'Pclass' and 'Fare', using different category plots."
   ]
  }
 ],
 "metadata": {
  "kernelspec": {
   "display_name": "Python 3",
   "language": "python",
   "name": "python3"
  },
  "language_info": {
   "codemirror_mode": {
    "name": "ipython",
    "version": 3
   },
   "file_extension": ".py",
   "mimetype": "text/x-python",
   "name": "python",
   "nbconvert_exporter": "python",
   "pygments_lexer": "ipython3",
   "version": "3.7.4"
  }
 },
 "nbformat": 4,
 "nbformat_minor": 5
}
