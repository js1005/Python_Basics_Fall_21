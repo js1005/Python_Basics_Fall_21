{
 "cells": [
  {
   "cell_type": "markdown",
   "id": "passing-substitute",
   "metadata": {},
   "source": [
    "## Solutions to Exercises: Session 5¶\n",
    "\n",
    "Again, we will work with the Titanic Dataframe. So, make sure to load the data in a first step (and don't forget to load the pandas and numpy modules as well). I will post solutions shortly after expiration of the deadline.\n",
    "\n",
    "1. Like in the previous exercises, create a variable called 'upper_class' that takes the value 1 if a passenger travelled 1st class and 0 otherwise. Consider the relationship between 'upper_class' and 'Survived'. Why may the two be related? Compare survival chances among those who booked upper class and those who booked lower class.\n",
    "2. How many passengers who carried the name 'Charles' were on the Titanic? What was their average age? How many of them survived? You will need to google a bit to answer this question.\n",
    "3. Consider the variable 'Embarked', which denotes the port of embarcation. Compute how many passengers embarked at each port. Then visualize the distribution of passengers across the ports with the help of a distribution plot.\n",
    "4. Consider the relationship between 'Pclass' and 'Fare'. What is the average fare for each 'Pclass'? What is the standard deviation within each 'Pclass'? Visualize the relationship between 'Pclass' and 'Fare', using different category plots."
   ]
  },
  {
   "cell_type": "code",
   "execution_count": 20,
   "id": "incorporate-warrant",
   "metadata": {},
   "outputs": [],
   "source": [
    "import matplotlib.pyplot as plt\n",
    "import seaborn as sns\n",
    "import pandas as pd\n",
    "df_titanic = pd.read_csv('../python_basics_johanna/data/titanic.csv')"
   ]
  },
  {
   "cell_type": "markdown",
   "id": "defined-logic",
   "metadata": {},
   "source": [
    "1. Like in the previous exercises, create a variable called 'upper_class' that takes the value 1 if a passenger travelled 1st class and 0 otherwise. Consider the relationship between 'upper_class' and 'Survived'. Why may the two be related? Compare survival chances among those who booked upper class and those who booked lower class."
   ]
  },
  {
   "cell_type": "code",
   "execution_count": 21,
   "id": "quality-christopher",
   "metadata": {},
   "outputs": [],
   "source": [
    "# create 'upper_class'\n",
    "df_titanic['upper_class'] = None\n",
    "df_titanic.loc[df_titanic['Pclass'] == 1, 'upper_class'] = 1\n",
    "df_titanic.loc[df_titanic['Pclass'] != 1, 'upper_class'] = 0"
   ]
  },
  {
   "cell_type": "markdown",
   "id": "critical-branch",
   "metadata": {},
   "source": [
    "Passengers who booked upper class might have received preferential treatment w. r. t. lifeboats etc."
   ]
  },
  {
   "cell_type": "code",
   "execution_count": 22,
   "id": "square-weather",
   "metadata": {},
   "outputs": [
    {
     "data": {
      "text/plain": [
       "upper_class\n",
       "0    0.305185\n",
       "1    0.629630\n",
       "Name: Survived, dtype: float64"
      ]
     },
     "execution_count": 22,
     "metadata": {},
     "output_type": "execute_result"
    }
   ],
   "source": [
    "df_titanic.groupby('upper_class')['Survived'].mean()"
   ]
  },
  {
   "cell_type": "markdown",
   "id": "looking-jones",
   "metadata": {},
   "source": [
    "Indeed, survival chances among 'upper class' passengers were higher (approx. 60%) than among 'lower class' passengers (approx. 30%)."
   ]
  },
  {
   "cell_type": "markdown",
   "id": "musical-arnold",
   "metadata": {},
   "source": [
    "2. How many passengers who carried the name 'Charles' were on the Titanic? What was their average age? How many of them survived? You will need to google a bit to answer this question."
   ]
  },
  {
   "cell_type": "code",
   "execution_count": 23,
   "id": "alpha-swift",
   "metadata": {},
   "outputs": [
    {
     "name": "stdout",
     "output_type": "stream",
     "text": [
      "Num. passengers who carried name \"Charles\": 24\n"
     ]
    }
   ],
   "source": [
    "df_charles = df_titanic.loc[df_titanic['Name'].str.contains('Charles')]\n",
    "print('Num. passengers who carried name \"Charles\": ' + str(len(df_charles)))"
   ]
  },
  {
   "cell_type": "code",
   "execution_count": 24,
   "id": "proved-standing",
   "metadata": {},
   "outputs": [
    {
     "name": "stdout",
     "output_type": "stream",
     "text": [
      "Average age of passengers who carried name \"Charles\":  33.225\n"
     ]
    }
   ],
   "source": [
    "df_charles['Age'].mean()\n",
    "print('Average age of passengers who carried name \"Charles\": ', df_charles['Age'].mean())"
   ]
  },
  {
   "cell_type": "code",
   "execution_count": 25,
   "id": "affiliated-xerox",
   "metadata": {},
   "outputs": [
    {
     "name": "stdout",
     "output_type": "stream",
     "text": [
      "Number of passengers who carried name \"Charles\" and survived:  7\n"
     ]
    }
   ],
   "source": [
    "len(df_charles.loc[df_charles['Survived'] == 1])\n",
    "print('Number of passengers who carried name \"Charles\" and survived: ', len(df_charles.loc[df_charles['Survived'] == 1]))"
   ]
  },
  {
   "cell_type": "markdown",
   "id": "satellite-firmware",
   "metadata": {},
   "source": [
    "3. Consider the variable 'Embarked', which denotes the port of embarcation. Compute how many passengers embarked at each port. Then visualize the distribution of passengers across the ports with the help of a distribution plot."
   ]
  },
  {
   "cell_type": "code",
   "execution_count": 27,
   "id": "quality-bottom",
   "metadata": {},
   "outputs": [
    {
     "data": {
      "text/plain": [
       "Embarked\n",
       "C    168\n",
       "Q     77\n",
       "S    644\n",
       "Name: PassengerId, dtype: int64"
      ]
     },
     "execution_count": 27,
     "metadata": {},
     "output_type": "execute_result"
    }
   ],
   "source": [
    "df_titanic.groupby('Embarked')['PassengerId'].count()"
   ]
  },
  {
   "cell_type": "code",
   "execution_count": 28,
   "id": "local-swaziland",
   "metadata": {},
   "outputs": [
    {
     "data": {
      "text/plain": [
       "(array([644.,   0.,   0., 168.,   0.,   0.,  77.,   0.,   0.,   2.]),\n",
       " array([0. , 0.3, 0.6, 0.9, 1.2, 1.5, 1.8, 2.1, 2.4, 2.7, 3. ]),\n",
       " <a list of 10 Patch objects>)"
      ]
     },
     "execution_count": 28,
     "metadata": {},
     "output_type": "execute_result"
    },
    {
     "data": {
      "image/png": "[encoded data removed]",
      "text/plain": [
       "<Figure size 432x288 with 1 Axes>"
      ]
     },
     "metadata": {
      "needs_background": "light"
     },
     "output_type": "display_data"
    }
   ],
   "source": [
    "plt.hist(list(df_titanic['Embarked']))"
   ]
  },
  {
   "cell_type": "markdown",
   "id": "individual-county",
   "metadata": {},
   "source": [
    "4. Consider the relationship between 'Pclass' and 'Fare'. What is the average fare for each 'Pclass'? What is the standard deviation within each 'Pclass'? Visualize the relationship between 'Pclass' and 'Fare', using different category plots."
   ]
  },
  {
   "cell_type": "code",
   "execution_count": 29,
   "id": "demanding-radical",
   "metadata": {},
   "outputs": [
    {
     "data": {
      "text/plain": [
       "Pclass\n",
       "1    84.154687\n",
       "2    20.662183\n",
       "3    13.675550\n",
       "Name: Fare, dtype: float64"
      ]
     },
     "execution_count": 29,
     "metadata": {},
     "output_type": "execute_result"
    }
   ],
   "source": [
    "# average fare for each 'Pclass'\n",
    "df_titanic.groupby('Pclass')['Fare'].mean()"
   ]
  },
  {
   "cell_type": "code",
   "execution_count": 30,
   "id": "dental-sudan",
   "metadata": {},
   "outputs": [
    {
     "data": {
      "text/plain": [
       "Pclass\n",
       "1    78.380373\n",
       "2    13.417399\n",
       "3    11.778142\n",
       "Name: Fare, dtype: float64"
      ]
     },
     "execution_count": 30,
     "metadata": {},
     "output_type": "execute_result"
    }
   ],
   "source": [
    "# standard deviation for each 'Pclass'\n",
    "df_titanic.groupby('Pclass')['Fare'].std()"
   ]
  },
  {
   "cell_type": "code",
   "execution_count": 31,
   "id": "toxic-independence",
   "metadata": {},
   "outputs": [
    {
     "data": {
      "text/plain": [
       "<seaborn.axisgrid.FacetGrid at 0x2417baa9908>"
      ]
     },
     "execution_count": 31,
     "metadata": {},
     "output_type": "execute_result"
    },
    {
     "data": {
      "image/png": "[encoded data removed]",
      "text/plain": [
       "<Figure size 360x360 with 1 Axes>"
      ]
     },
     "metadata": {
      "needs_background": "light"
     },
     "output_type": "display_data"
    }
   ],
   "source": [
    "sns.catplot(x='Pclass', y='Fare', data=df_titanic)"
   ]
  },
  {
   "cell_type": "code",
   "execution_count": 33,
   "id": "federal-williams",
   "metadata": {},
   "outputs": [
    {
     "data": {
      "text/plain": [
       "<seaborn.axisgrid.FacetGrid at 0x2417bbe8b08>"
      ]
     },
     "execution_count": 33,
     "metadata": {},
     "output_type": "execute_result"
    },
    {
     "data": {
      "image/png": "[encoded data removed]",
      "text/plain": [
       "<Figure size 360x360 with 1 Axes>"
      ]
     },
     "metadata": {
      "needs_background": "light"
     },
     "output_type": "display_data"
    }
   ],
   "source": [
    "sns.catplot(x='Pclass', y='Fare', data=df_titanic, kind='box')"
   ]
  },
  {
   "cell_type": "markdown",
   "id": "listed-beijing",
   "metadata": {},
   "source": [
    "These are just example plots, many more/different plots are possible. In any case, as expected, first class passengers tend to pay higher fares."
   ]
  }
 ],
 "metadata": {
  "kernelspec": {
   "display_name": "Python 3",
   "language": "python",
   "name": "python3"
  },
  "language_info": {
   "codemirror_mode": {
    "name": "ipython",
    "version": 3
   },
   "file_extension": ".py",
   "mimetype": "text/x-python",
   "name": "python",
   "nbconvert_exporter": "python",
   "pygments_lexer": "ipython3",
   "version": "3.7.4"
  }
 },
 "nbformat": 4,
 "nbformat_minor": 5
}
