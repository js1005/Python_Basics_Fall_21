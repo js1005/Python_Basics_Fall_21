{
 "cells": [
  {
   "cell_type": "markdown",
   "id": "expressed-positive",
   "metadata": {},
   "source": [
    "## Solutions to Exercises: Session 6\n",
    "\n",
    "Again, you will be working with the Netflix data. So, make sure that you load the usual modules (pandas, numpy, seaborn, matplotlib) as well as the data.\n",
    "\n",
    "### 1. Take a look at the 'country' variable - which indicates the country in which a film was produced.\n",
    "\n",
    "a. Of which datatype is this variable?\n",
    "\n",
    "b. Convert this variable to type 'string'.\n",
    "\n",
    "c. Remove all rows with null values in the 'country' column.\n",
    "\n",
    "d. Use the 'split' command to split the countries by ', ' such that each country is recognized.\n",
    "\n",
    "e. Explode the dataframe along the variable 'country' such that each country-film pair has one row.\n",
    "\n",
    "f. How many different countries are there in the dataset?\n",
    "\n",
    "g. How many movies were produced in the U.S.?"
   ]
  },
  {
   "cell_type": "markdown",
   "id": "animated-observation",
   "metadata": {},
   "source": [
    "### 2. Consider the relationship between 'duration' and 'release_year'."
   ]
  },
  {
   "cell_type": "markdown",
   "id": "champion-directory",
   "metadata": {},
   "source": [
    "First, execute the following code to modify the 'duration' variable."
   ]
  },
  {
   "cell_type": "markdown",
   "id": "ancient-expert",
   "metadata": {},
   "source": [
    "<<import re\n",
    "\n",
    "df_netflix = df_netflix.loc[df_netflix['duration'].str.contains('min') == True]\n",
    "\n",
    "df_netflix['duration'] = df_netflix['duration'].apply(lambda x: int(''.join(re.findall('[0-9]', str(x)))))>>"
   ]
  },
  {
   "cell_type": "markdown",
   "id": "opened-entrepreneur",
   "metadata": {},
   "source": [
    "a. What is the average film duration for every year?\n",
    "\n",
    "b. Use a regresion plot ('regplot') to visualize the relationship between year and film duration.\n",
    "\n",
    "c. Use a lineplot to visualize the mean duration of movies over time."
   ]
  }
 ],
 "metadata": {
  "kernelspec": {
   "display_name": "Python 3",
   "language": "python",
   "name": "python3"
  },
  "language_info": {
   "codemirror_mode": {
    "name": "ipython",
    "version": 3
   },
   "file_extension": ".py",
   "mimetype": "text/x-python",
   "name": "python",
   "nbconvert_exporter": "python",
   "pygments_lexer": "ipython3",
   "version": "3.7.4"
  }
 },
 "nbformat": 4,
 "nbformat_minor": 5
}
