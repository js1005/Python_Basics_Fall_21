{
 "cells": [
  {
   "cell_type": "markdown",
   "id": "spanish-string",
   "metadata": {},
   "source": [
    "# Recap of Python Basics, Sessions 1-3\n",
    "\n",
    "Before we dive into any new content, let us take a look at the most important take-aways from sessions 1-3."
   ]
  },
  {
   "cell_type": "markdown",
   "id": "falling-profit",
   "metadata": {},
   "source": [
    "# 1. Datatypes\n",
    "We learned about different datatypes: Strings, Integers, Floats, Boolean values. Later in this session, we will talk about dataframes - and to understand dataframes, it is crucial that you have a solid understanding of the different datatypes."
   ]
  },
  {
   "cell_type": "markdown",
   "id": "current-cowboy",
   "metadata": {},
   "source": [
    "## 1.1 Strings\n",
    "Strings are a sequence of characters. To define strings, we use the single quote character '."
   ]
  },
  {
   "cell_type": "code",
   "execution_count": 32,
   "id": "hindu-african",
   "metadata": {},
   "outputs": [
    {
     "data": {
      "text/plain": [
       "'This is session 4'"
      ]
     },
     "execution_count": 32,
     "metadata": {},
     "output_type": "execute_result"
    }
   ],
   "source": [
    "'This is session 4'"
   ]
  },
  {
   "cell_type": "code",
   "execution_count": 33,
   "id": "accredited-bloom",
   "metadata": {},
   "outputs": [
    {
     "data": {
      "text/plain": [
       "'This is session \"4\"'"
      ]
     },
     "execution_count": 33,
     "metadata": {},
     "output_type": "execute_result"
    }
   ],
   "source": [
    "'This is session \"4\"'"
   ]
  },
  {
   "cell_type": "code",
   "execution_count": 34,
   "id": "bigger-chance",
   "metadata": {},
   "outputs": [],
   "source": [
    "string_1 = 'This is session '\n",
    "string_2 = '4'"
   ]
  },
  {
   "cell_type": "code",
   "execution_count": 35,
   "id": "imposed-appeal",
   "metadata": {},
   "outputs": [
    {
     "name": "stdout",
     "output_type": "stream",
     "text": [
      "This is session \n",
      "4\n"
     ]
    }
   ],
   "source": [
    "print(string_1)\n",
    "print(string_2)"
   ]
  },
  {
   "cell_type": "code",
   "execution_count": 36,
   "id": "brief-mauritius",
   "metadata": {},
   "outputs": [
    {
     "name": "stdout",
     "output_type": "stream",
     "text": [
      "This is session 4\n"
     ]
    }
   ],
   "source": [
    "print(string_1 + string_2)"
   ]
  },
  {
   "cell_type": "markdown",
   "id": "beautiful-literacy",
   "metadata": {},
   "source": [
    "We can check the datatype as follows ..."
   ]
  },
  {
   "cell_type": "code",
   "execution_count": 37,
   "id": "adult-swaziland",
   "metadata": {},
   "outputs": [
    {
     "data": {
      "text/plain": [
       "str"
      ]
     },
     "execution_count": 37,
     "metadata": {},
     "output_type": "execute_result"
    }
   ],
   "source": [
    "type(string_1)"
   ]
  },
  {
   "cell_type": "markdown",
   "id": "awful-central",
   "metadata": {},
   "source": [
    "We can also manipulate strings ..."
   ]
  },
  {
   "cell_type": "code",
   "execution_count": 38,
   "id": "historic-riding",
   "metadata": {},
   "outputs": [
    {
     "name": "stdout",
     "output_type": "stream",
     "text": [
      "Hello World\n"
     ]
    }
   ],
   "source": [
    "# Extract part of the string\n",
    "man_1 = 'Hello World!?!'\n",
    "man_2 = man_1[:-3]\n",
    "print(man_2)"
   ]
  },
  {
   "cell_type": "code",
   "execution_count": 39,
   "id": "beautiful-billy",
   "metadata": {},
   "outputs": [
    {
     "data": {
      "text/plain": [
       "['Hello World!', '!']"
      ]
     },
     "execution_count": 39,
     "metadata": {},
     "output_type": "execute_result"
    }
   ],
   "source": [
    "# Split strings\n",
    "man_1.split('?')"
   ]
  },
  {
   "cell_type": "code",
   "execution_count": 40,
   "id": "complimentary-theta",
   "metadata": {},
   "outputs": [
    {
     "data": {
      "text/plain": [
       "'Hello World!'"
      ]
     },
     "execution_count": 40,
     "metadata": {},
     "output_type": "execute_result"
    }
   ],
   "source": [
    "man_1.split('?')[0]"
   ]
  },
  {
   "cell_type": "code",
   "execution_count": 41,
   "id": "elect-therapist",
   "metadata": {},
   "outputs": [
    {
     "data": {
      "text/plain": [
       "['Hello World', '?', '']"
      ]
     },
     "execution_count": 41,
     "metadata": {},
     "output_type": "execute_result"
    }
   ],
   "source": [
    "man_1.split('!')"
   ]
  },
  {
   "cell_type": "code",
   "execution_count": 42,
   "id": "blessed-rogers",
   "metadata": {},
   "outputs": [
    {
     "data": {
      "text/plain": [
       "'Hello World'"
      ]
     },
     "execution_count": 42,
     "metadata": {},
     "output_type": "execute_result"
    }
   ],
   "source": [
    "man_1.split('!')[0]"
   ]
  },
  {
   "cell_type": "markdown",
   "id": "intense-snowboard",
   "metadata": {},
   "source": [
    "## 1.2 Numeric datatypes"
   ]
  },
  {
   "cell_type": "markdown",
   "id": "least-humanity",
   "metadata": {},
   "source": [
    "There are different ways to express numbers in Python. We focused on integer and floating point representations."
   ]
  },
  {
   "cell_type": "code",
   "execution_count": 43,
   "id": "handmade-arrangement",
   "metadata": {},
   "outputs": [
    {
     "name": "stdout",
     "output_type": "stream",
     "text": [
      "1 2\n"
     ]
    }
   ],
   "source": [
    "int_1 = 1\n",
    "int_2 = 2\n",
    "print(int_1, int_2)"
   ]
  },
  {
   "cell_type": "code",
   "execution_count": 44,
   "id": "obvious-first",
   "metadata": {},
   "outputs": [
    {
     "data": {
      "text/plain": [
       "3"
      ]
     },
     "execution_count": 44,
     "metadata": {},
     "output_type": "execute_result"
    }
   ],
   "source": [
    "int_1 + int_2"
   ]
  },
  {
   "cell_type": "code",
   "execution_count": 45,
   "id": "confused-triple",
   "metadata": {},
   "outputs": [
    {
     "data": {
      "text/plain": [
       "2"
      ]
     },
     "execution_count": 45,
     "metadata": {},
     "output_type": "execute_result"
    }
   ],
   "source": [
    "int_1*int_2"
   ]
  },
  {
   "cell_type": "code",
   "execution_count": 46,
   "id": "premium-tulsa",
   "metadata": {},
   "outputs": [
    {
     "name": "stdout",
     "output_type": "stream",
     "text": [
      "1.5 2.5\n"
     ]
    }
   ],
   "source": [
    "float_1 = 1.5\n",
    "float_2 = 2.5\n",
    "print(float_1, float_2)"
   ]
  },
  {
   "cell_type": "code",
   "execution_count": 47,
   "id": "vietnamese-exhibition",
   "metadata": {},
   "outputs": [
    {
     "data": {
      "text/plain": [
       "4.0"
      ]
     },
     "execution_count": 47,
     "metadata": {},
     "output_type": "execute_result"
    }
   ],
   "source": [
    "float_1 + float_2"
   ]
  },
  {
   "cell_type": "code",
   "execution_count": 48,
   "id": "fossil-catering",
   "metadata": {},
   "outputs": [
    {
     "data": {
      "text/plain": [
       "3.75"
      ]
     },
     "execution_count": 48,
     "metadata": {},
     "output_type": "execute_result"
    }
   ],
   "source": [
    "float_1*float_2"
   ]
  },
  {
   "cell_type": "markdown",
   "id": "conservative-workstation",
   "metadata": {},
   "source": [
    "## 1.3 Conversion of strings to integers/floats"
   ]
  },
  {
   "cell_type": "code",
   "execution_count": 49,
   "id": "round-professional",
   "metadata": {},
   "outputs": [
    {
     "data": {
      "text/plain": [
       "'12'"
      ]
     },
     "execution_count": 49,
     "metadata": {},
     "output_type": "execute_result"
    }
   ],
   "source": [
    "str_1 = '1'\n",
    "str_2 = '2'\n",
    "str_1 + str_2"
   ]
  },
  {
   "cell_type": "markdown",
   "id": "located-plate",
   "metadata": {},
   "source": [
    "This is not what we want! For str_1 + str_2 = 3, we need to convert strings to integers:"
   ]
  },
  {
   "cell_type": "code",
   "execution_count": 50,
   "id": "color-organic",
   "metadata": {},
   "outputs": [],
   "source": [
    "# convert by using int(...)\n",
    "int_1 = int(str_1)\n",
    "int_2 = int(str_2)"
   ]
  },
  {
   "cell_type": "code",
   "execution_count": 51,
   "id": "bright-surge",
   "metadata": {},
   "outputs": [
    {
     "name": "stdout",
     "output_type": "stream",
     "text": [
      "<class 'int'> <class 'int'>\n"
     ]
    }
   ],
   "source": [
    "# check if int_1 and int_2 are indeed integers now\n",
    "print(type(int_1), type(int_2))"
   ]
  },
  {
   "cell_type": "code",
   "execution_count": 52,
   "id": "pending-connecticut",
   "metadata": {},
   "outputs": [
    {
     "data": {
      "text/plain": [
       "3"
      ]
     },
     "execution_count": 52,
     "metadata": {},
     "output_type": "execute_result"
    }
   ],
   "source": [
    "# we now repeat the above procedure\n",
    "int_1 + int_2"
   ]
  },
  {
   "cell_type": "markdown",
   "id": "homeless-imperial",
   "metadata": {},
   "source": [
    "An equivalent procedure applies for the conversion of strings to floats:"
   ]
  },
  {
   "cell_type": "code",
   "execution_count": 53,
   "id": "outside-radiation",
   "metadata": {},
   "outputs": [
    {
     "data": {
      "text/plain": [
       "'1.52.5'"
      ]
     },
     "execution_count": 53,
     "metadata": {},
     "output_type": "execute_result"
    }
   ],
   "source": [
    "str_15 = '1.5'\n",
    "str_25 = '2.5'\n",
    "str_15 + str_25"
   ]
  },
  {
   "cell_type": "code",
   "execution_count": 54,
   "id": "miniature-windows",
   "metadata": {},
   "outputs": [
    {
     "data": {
      "text/plain": [
       "4.0"
      ]
     },
     "execution_count": 54,
     "metadata": {},
     "output_type": "execute_result"
    }
   ],
   "source": [
    "float_15 = float(str_15)\n",
    "float_25 = float(str_25)\n",
    "float_15 + float_25"
   ]
  },
  {
   "cell_type": "markdown",
   "id": "inside-antigua",
   "metadata": {},
   "source": [
    "## 1.4 Boolean values\n",
    "Python supports yet another datatype: boolean values. These can take the two values 'True' and 'False'. For example, you might want to construct a variable that indicates whether it has rained on any given day. Let us call this variable 'rain'. If 'rain' takes the value 'True', this means that it rained on a given day; if 'rain' takes the value 'False', this means that it did not rain on a given day."
   ]
  },
  {
   "cell_type": "code",
   "execution_count": 55,
   "id": "grand-attachment",
   "metadata": {},
   "outputs": [
    {
     "name": "stdout",
     "output_type": "stream",
     "text": [
      "True\n"
     ]
    },
    {
     "data": {
      "text/plain": [
       "bool"
      ]
     },
     "execution_count": 55,
     "metadata": {},
     "output_type": "execute_result"
    }
   ],
   "source": [
    "rain = True\n",
    "print(rain)\n",
    "type(rain)"
   ]
  },
  {
   "cell_type": "markdown",
   "id": "professional-affiliate",
   "metadata": {},
   "source": [
    "## 1.5 None values\n",
    "None denotes missing values, or null values."
   ]
  },
  {
   "cell_type": "code",
   "execution_count": 56,
   "id": "lesbian-thanksgiving",
   "metadata": {},
   "outputs": [
    {
     "name": "stdout",
     "output_type": "stream",
     "text": [
      "None\n"
     ]
    }
   ],
   "source": [
    "# E.g., if we have no information on the weather on a given day, we might assign None to a weather variable\n",
    "weather_info = None\n",
    "print(weather_info)"
   ]
  },
  {
   "cell_type": "markdown",
   "id": "average-headquarters",
   "metadata": {},
   "source": [
    "# 2. If conditions\n",
    "We also worked with comparison operators and, most importantly, if statements."
   ]
  },
  {
   "cell_type": "code",
   "execution_count": null,
   "id": "threaded-sleep",
   "metadata": {},
   "outputs": [],
   "source": [
    "# Checks for equality\n",
    "1==2"
   ]
  },
  {
   "cell_type": "code",
   "execution_count": null,
   "id": "animated-communications",
   "metadata": {},
   "outputs": [],
   "source": [
    "# Checks for inequality\n",
    "1!=2"
   ]
  },
  {
   "cell_type": "code",
   "execution_count": 57,
   "id": "royal-inside",
   "metadata": {},
   "outputs": [
    {
     "data": {
      "text/plain": [
       "False"
      ]
     },
     "execution_count": 57,
     "metadata": {},
     "output_type": "execute_result"
    }
   ],
   "source": [
    "# We can also combine several comparisons, with the 'and' (&) or 'or' (|) operator\n",
    "(1==2) & (1!=2) # checks if 1 equals 2 and if 1 is unequal 2 - must be false by definition"
   ]
  },
  {
   "cell_type": "code",
   "execution_count": 58,
   "id": "cross-apple",
   "metadata": {},
   "outputs": [
    {
     "data": {
      "text/plain": [
       "True"
      ]
     },
     "execution_count": 58,
     "metadata": {},
     "output_type": "execute_result"
    }
   ],
   "source": [
    "(1==1) & (1<2) # checks if 1 equals 1 and if 1 is smaller than 2"
   ]
  },
  {
   "cell_type": "code",
   "execution_count": 59,
   "id": "postal-necessity",
   "metadata": {},
   "outputs": [
    {
     "data": {
      "text/plain": [
       "False"
      ]
     },
     "execution_count": 59,
     "metadata": {},
     "output_type": "execute_result"
    }
   ],
   "source": [
    "(2<1) & (3<1) # checks if 2 smaller than 1 and if 3 smaller than 1"
   ]
  },
  {
   "cell_type": "code",
   "execution_count": 60,
   "id": "sized-blowing",
   "metadata": {},
   "outputs": [
    {
     "data": {
      "text/plain": [
       "True"
      ]
     },
     "execution_count": 60,
     "metadata": {},
     "output_type": "execute_result"
    }
   ],
   "source": [
    "(1==2) | (1!=2) # checks if one of the two statements is true"
   ]
  },
  {
   "cell_type": "markdown",
   "id": "accepted-midnight",
   "metadata": {},
   "source": [
    "We can use these comparison operators to construct if-statements. If-statements always work according to the same principle: If some condition is satisfied, do the following.\n",
    "        \n",
    "if (condition):\n",
    "    do sth."
   ]
  },
  {
   "cell_type": "code",
   "execution_count": 62,
   "id": "duplicate-limitation",
   "metadata": {},
   "outputs": [],
   "source": [
    "# let us define a number\n",
    "num = 3\n",
    "# if num is greater than 5, we would like to print the statement 'Num is greater than 5'\n",
    "if num > 5:\n",
    "    print(str(num) + ' is greater than 5')\n",
    "\n",
    "# Since our if-condition is not satisfied, there is no statement being printed"
   ]
  },
  {
   "cell_type": "code",
   "execution_count": 63,
   "id": "numeric-consumption",
   "metadata": {},
   "outputs": [
    {
     "name": "stdout",
     "output_type": "stream",
     "text": [
      "6 is greater than 5\n"
     ]
    }
   ],
   "source": [
    "# let us redefine the number\n",
    "num = 6\n",
    "# if num is greater than 5, we would like to print the statement 'Num is greater than 5'\n",
    "if num > 5:\n",
    "    print(str(num) + ' is greater than 5')\n",
    "\n",
    "# Now our if-statement is satisfied and the statement is being printed"
   ]
  },
  {
   "cell_type": "markdown",
   "id": "prescription-staff",
   "metadata": {},
   "source": [
    "We can also say what should happen if the condition is not satisfied, namely by using 'else':"
   ]
  },
  {
   "cell_type": "code",
   "execution_count": 64,
   "id": "intense-friday",
   "metadata": {},
   "outputs": [
    {
     "name": "stdout",
     "output_type": "stream",
     "text": [
      "3 is smaller than 5\n"
     ]
    }
   ],
   "source": [
    "# let us define a number\n",
    "num = 3\n",
    "# if num is greater than 5, we would like to print the statement 'Num is greater than 5', otherwise we would like to print the satetement 'Num is smaller than 5'\n",
    "if num > 5:\n",
    "    print(str(num) + ' is greater than 5')\n",
    "else:\n",
    "    print(str(num) + ' is smaller than or equal to 5')"
   ]
  },
  {
   "cell_type": "markdown",
   "id": "defined-artist",
   "metadata": {},
   "source": [
    "We can also iterate over different if conditions, using 'elif'. For example, if we would first like to check if a number is greater than 5 and then if the same number is greater than 2, we would write:"
   ]
  },
  {
   "cell_type": "code",
   "execution_count": 65,
   "id": "modern-portfolio",
   "metadata": {},
   "outputs": [
    {
     "name": "stdout",
     "output_type": "stream",
     "text": [
      "3 is greater than 2\n"
     ]
    }
   ],
   "source": [
    "# let us redefine the number\n",
    "num = 3\n",
    "# if num is greater than 5, we would like to print the statement 'Num is greater than 5'\n",
    "# if num is greater than 2, we would like to print the statement 'Num is greater than 2'\n",
    "if num > 5:\n",
    "    print(str(num) + ' is greater than 5')\n",
    "elif num > 2:\n",
    "    print(str(num) + ' is greater than 2')"
   ]
  },
  {
   "cell_type": "markdown",
   "id": "liable-ecology",
   "metadata": {},
   "source": [
    "# 3. For-loops\n",
    "For-loops come in handy if we want to repeat an operation for a range of values. Suppose we want to add 2 to every integer between 20 and 31, and then divide by 10."
   ]
  },
  {
   "cell_type": "code",
   "execution_count": 66,
   "id": "acceptable-wayne",
   "metadata": {},
   "outputs": [
    {
     "name": "stdout",
     "output_type": "stream",
     "text": [
      "2.2\n",
      "2.3\n",
      "2.4\n",
      "2.5\n",
      "2.6\n",
      "2.7\n",
      "2.8\n",
      "2.9\n",
      "3.0\n",
      "3.1\n"
     ]
    }
   ],
   "source": [
    "for k in range(20, 30):\n",
    "    num = (k+2)/10\n",
    "    print(num)\n",
    "    "
   ]
  },
  {
   "cell_type": "markdown",
   "id": "banner-croatia",
   "metadata": {},
   "source": [
    "We can also combine if-conditions with for-loops:"
   ]
  },
  {
   "cell_type": "code",
   "execution_count": 70,
   "id": "discrete-orchestra",
   "metadata": {},
   "outputs": [
    {
     "name": "stdout",
     "output_type": "stream",
     "text": [
      "This is an even number: 20\n",
      "1.05\n",
      "This is an odd number: 21\n",
      "2.3\n",
      "This is an even number: 22\n",
      "1.15\n",
      "This is an odd number: 23\n",
      "2.5\n",
      "This is an even number: 24\n",
      "1.25\n",
      "This is an odd number: 25\n",
      "2.7\n",
      "This is an even number: 26\n",
      "1.35\n",
      "This is an odd number: 27\n",
      "2.9\n",
      "This is an even number: 28\n",
      "1.45\n",
      "This is an odd number: 29\n",
      "3.1\n"
     ]
    }
   ],
   "source": [
    "for k in range(20, 30):\n",
    "    # add 2 and divide by 10 if number is odd\n",
    "    if k % 2 != 0:\n",
    "        print('This is an odd number: ' + str(k))\n",
    "        num = (k+2)/10\n",
    "        print(num)\n",
    "    # add 1 and divide by 20 if number is even\n",
    "    if k % 2 == 0:\n",
    "        print('This is an even number: ' + str(k))\n",
    "        num = (k+1)/20\n",
    "        print(num)"
   ]
  }
 ],
 "metadata": {
  "kernelspec": {
   "display_name": "Python 3",
   "language": "python",
   "name": "python3"
  },
  "language_info": {
   "codemirror_mode": {
    "name": "ipython",
    "version": 3
   },
   "file_extension": ".py",
   "mimetype": "text/x-python",
   "name": "python",
   "nbconvert_exporter": "python",
   "pygments_lexer": "ipython3",
   "version": "3.7.4"
  }
 },
 "nbformat": 4,
 "nbformat_minor": 5
}
